{
 "cells": [
  {
   "attachments": {},
   "cell_type": "markdown",
   "metadata": {},
   "source": [
    "## Decision Trees, Decision Boundaries, and Evaluation\n",
    "\n",
    "### Definition:   \n",
    "![Alt text](tree_example.png)  \n",
    " A decision tree is a predictive modeling tool that is used to create a visual representation of all possible outcomes of a decision. It is a hierarchical model that consists of a set of nodes and branches, where each node represents a decision or test and each branch represents the outcome of that decision or test. Decision trees are commonly used in machine learning, data mining, and business intelligence to help with decision-making, classification, and prediction tasks.   "
   ]
  },
  {
   "cell_type": "code",
   "execution_count": null,
   "metadata": {},
   "outputs": [],
   "source": []
  },
  {
   "cell_type": "code",
   "execution_count": null,
   "metadata": {},
   "outputs": [],
   "source": []
  },
  {
   "cell_type": "code",
   "execution_count": null,
   "metadata": {},
   "outputs": [],
   "source": []
  }
 ],
 "metadata": {
  "kernelspec": {
   "display_name": "Python 3",
   "language": "python",
   "name": "python3"
  },
  "language_info": {
   "name": "python",
   "version": "3.11.1"
  },
  "orig_nbformat": 4,
  "vscode": {
   "interpreter": {
    "hash": "aee8b7b246df8f9039afb4144a1f6fd8d2ca17a180786b69acc140d282b71a49"
   }
  }
 },
 "nbformat": 4,
 "nbformat_minor": 2
}
